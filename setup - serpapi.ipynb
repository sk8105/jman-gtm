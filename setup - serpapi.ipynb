{
 "cells": [
  {
   "cell_type": "code",
   "execution_count": null,
   "metadata": {},
   "outputs": [],
   "source": [
    "import os\n",
    "import requests\n",
    "from dotenv import load_dotenv\n",
    "\n",
    "# Load environment variables from .env file\n",
    "load_dotenv()\n",
    "\n",
    "# Your Google Maps Places API key\n",
    "API_KEY = os.getenv(\"API_KEY\")\n",
    "\n",
    "# API endpoint\n",
    "url = os.getenv(\"SERPAPI_URL\")\n",
    "\n",
    "# Parameters for the API request\n",
    "params = {\n",
    "    \"q\": \"lenovo\",\n",
    "    \"location\": \"India\",\n",
    "    \"api_key\": API_KEY\n",
    "}\n",
    "\n",
    "# Make the GET request\n",
    "response = requests.get(url, params=params)\n",
    "\n",
    "# Check if the request was successful\n",
    "if response.status_code == 200:\n",
    "    # Print the JSON response\n",
    "    data = response.json()\n",
    "    print(data)\n",
    "else:\n",
    "    print(f\"Request failed with status code: {response.status_code}\")\n"
   ]
  }
 ],
 "metadata": {
  "language_info": {
   "name": "python"
  }
 },
 "nbformat": 4,
 "nbformat_minor": 2
}
